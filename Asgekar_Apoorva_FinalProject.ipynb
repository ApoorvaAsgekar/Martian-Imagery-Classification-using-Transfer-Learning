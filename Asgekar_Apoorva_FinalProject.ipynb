{
 "cells": [
  {
   "cell_type": "markdown",
   "metadata": {
    "id": "lz58FuRNmgRb"
   },
   "source": [
    "# **FINAL PROJECT**"
   ]
  },
  {
   "cell_type": "markdown",
   "metadata": {
    "id": "HuBJsIGsmqiu"
   },
   "source": [
    "### Name: Apoorva Asgekar\n",
    "### GitHub ID: ApoorvaAsgekar\n",
    "### USC ID : 1019968378"
   ]
  },
  {
   "cell_type": "markdown",
   "metadata": {
    "id": "CjRNG9WoEobB"
   },
   "source": [
    "# **1. Identification of Frost in Martian HiRISE Images**"
   ]
  },
  {
   "cell_type": "markdown",
   "metadata": {
    "id": "vSymPZoIErPE"
   },
   "source": [
    "# **(a) Importing Packages**"
   ]
  },
  {
   "cell_type": "code",
   "execution_count": 2,
   "metadata": {
    "id": "Ea7nEZGzd6Ut"
   },
   "outputs": [],
   "source": [
    "import os\n",
    "import os.path as op\n",
    "import json\n",
    "from pathlib import Path\n",
    "import shutil\n",
    "import logging\n",
    "import numpy as np\n",
    "from tqdm import tqdm\n",
    "from skimage import io\n",
    "import logging\n",
    "import pandas as pd\n",
    "import random\n",
    "import tensorflow as tf\n",
    "from PIL import Image\n",
    "\n",
    "import cv2\n",
    "from tensorflow.keras.preprocessing.image import ImageDataGenerator\n",
    "from tensorflow.keras.callbacks import EarlyStopping\n",
    "from tensorflow.keras.regularizers import l2\n",
    "\n",
    "from tensorflow.keras import layers, models, optimizers\n",
    "from tensorflow.keras.callbacks import EarlyStopping\n",
    "import matplotlib.pyplot as plt\n",
    "\n",
    "from tensorflow.keras.applications import EfficientNetB0, ResNet50, VGG16\n",
    "from tensorflow.keras.preprocessing import image\n",
    "from tensorflow.keras.applications.efficientnet import preprocess_input as efficientnet_preprocess_input\n",
    "from tensorflow.keras.applications.resnet50 import preprocess_input as resnet50_preprocess_input\n",
    "from tensorflow.keras.applications.vgg16 import preprocess_input as vgg16_preprocess_input\n",
    "import numpy as np\n",
    "\n",
    "from sklearn.metrics import classification_report\n",
    "\n",
    "from sklearn.metrics import precision_score, recall_score, f1_score, confusion_matrix\n",
    "\n",
    "import warnings\n",
    "warnings.filterwarnings('ignore')\n"
   ]
  },
  {
   "cell_type": "markdown",
   "metadata": {
    "id": "6LYVcsQLEXgS"
   },
   "source": [
    "# **(b) Data Exploration and Pre-processing**"
   ]
  },
  {
   "cell_type": "code",
   "execution_count": 4,
   "metadata": {
    "id": "Rk8ASGB-d6X8"
   },
   "outputs": [],
   "source": [
    "# Logging configuration\n",
    "logging.basicConfig(level=logging.INFO,\n",
    "                    datefmt='%H:%M:%S',\n",
    "                    format='%(asctime)s | %(levelname)-5s | %(module)-15s | %(message)s')\n",
    "\n",
    "IMAGE_SIZE = (299, 299)  # All images contained in this dataset are 299x299 (originally, to match Inception v3 input size)\n",
    "SEED = 17"
   ]
  },
  {
   "cell_type": "code",
   "execution_count": 5,
   "metadata": {
    "id": "EF-pOzHiCb_d"
   },
   "outputs": [],
   "source": [
    "# Head directory containing all image subframes. Update with the relative path of your data directory\n",
    "data_head_dir = Path('..\\\\data\\\\data')"
   ]
  },
  {
   "cell_type": "code",
   "execution_count": 6,
   "metadata": {
    "id": "kEH1dAoZCeD8"
   },
   "outputs": [],
   "source": [
    "# Find all subframe directories\n",
    "subdirs = [Path(subdir.stem) for subdir in data_head_dir.iterdir() if subdir.is_dir()]\n",
    "src_image_ids = ['_'.join(a_path.name.split('_')[:3]) for a_path in subdirs]"
   ]
  },
  {
   "cell_type": "code",
   "execution_count": 7,
   "metadata": {
    "id": "Z9Q2sSLJCgYJ"
   },
   "outputs": [],
   "source": [
    "# Load train/val/test subframe IDs\n",
    "def load_text_ids(file_path):\n",
    "    \"\"\"Simple helper to load all lines from a text file\"\"\"\n",
    "    with open(file_path, 'r') as f:\n",
    "        lines = [line.strip() for line in f.readlines()]\n",
    "    return lines"
   ]
  },
  {
   "cell_type": "code",
   "execution_count": 8,
   "metadata": {
    "id": "bDo86MCPd6aN"
   },
   "outputs": [],
   "source": [
    "# Load the subframe names for the three data subsets\n",
    "train_ids = load_text_ids('..\\\\train_source_images.txt')\n",
    "validate_ids = load_text_ids('..\\\\val_source_images.txt')\n",
    "test_ids = load_text_ids('.\\\\test_source_images.txt')"
   ]
  },
  {
   "cell_type": "code",
   "execution_count": 9,
   "metadata": {
    "id": "JZ0mk0sNCkR_"
   },
   "outputs": [],
   "source": [
    "# Generate a list containing the dataset split for the matching subdirectory names\n",
    "subdir_splits = []\n",
    "for src_id in src_image_ids:\n",
    "    if src_id in train_ids:\n",
    "        subdir_splits.append('train')\n",
    "    elif src_id in validate_ids:\n",
    "        subdir_splits.append('validate')\n",
    "    elif(src_id in test_ids):\n",
    "        subdir_splits.append('test')\n",
    "    else:\n",
    "        logging.warning(f'{src_id}: Did not find designated split in train/validate/test list.')\n",
    "        subdir_splits.append(None)"
   ]
  },
  {
   "cell_type": "code",
   "execution_count": 47,
   "metadata": {
    "id": "iJhfOCaNfzJK"
   },
   "outputs": [],
   "source": [
    "def augment_image(img):\n",
    "    datagen = ImageDataGenerator(\n",
    "        rotation_range=30,\n",
    "        width_shift_range=0.2,\n",
    "        height_shift_range=0.2,\n",
    "        shear_range=0.2,\n",
    "        zoom_range=0.2,\n",
    "        brightness_range=[0.2, 1.0],\n",
    "        horizontal_flip=True,\n",
    "        vertical_flip=True,\n",
    "        fill_mode='nearest'\n",
    "        )\n",
    "    img= np.array(img)\n",
    "    img= datagen.random_transform(img)\n",
    "    return img\n",
    "\n",
    "def load_and_preprocess_augmentation(img_loc, label):\n",
    "    def _inner_function(img_loc, label):\n",
    "        # Convert tensor to native type\n",
    "        img_loc_str = img_loc.numpy().decode('utf-8')\n",
    "        label_str = label.numpy().decode('utf-8')\n",
    "\n",
    "        img = Image.open(img_loc_str).convert('RGB')\n",
    "\n",
    "        # Convert PIL image to numpy array\n",
    "        img = np.array(img)\n",
    "        # Augmentation is performed only during training\n",
    "        img = augment_image(img)\n",
    "        img = tf.image.resize(img, [299, 299])\n",
    "\n",
    "        return img, 1 if label_str == 'frost' else 0\n",
    "    X, y = tf.py_function(_inner_function, [img_loc, label], [tf.float32, tf.int64])\n",
    "    y.set_shape([])\n",
    "\n",
    "    # Wrap the Python function\n",
    "    return X, y"
   ]
  },
  {
   "cell_type": "code",
   "execution_count": 33,
   "metadata": {
    "id": "F8P1FzfNf9Kz"
   },
   "outputs": [],
   "source": [
    "def load_and_preprocess(img_loc, label):\n",
    "\n",
    "    def _inner_function(img_loc, label):\n",
    "\n",
    "        # Convert tensor to native type\n",
    "        img_loc_str = img_loc.numpy().decode('utf-8')\n",
    "        label_str = label.numpy().decode('utf-8')\n",
    "\n",
    "        img = Image.open(img_loc_str).convert('RGB')\n",
    "\n",
    "        # Convert PIL image to numpy array\n",
    "        img = np.array(img)\n",
    "        img = tf.image.resize(img, [299, 299])\n",
    "\n",
    "        return img, 1 if label_str=='frost' else 0\n",
    "\n",
    "    # Wrap the Python function\n",
    "    X, y = tf.py_function(_inner_function, [img_loc, label], [tf.float32, tf.int64])\n",
    "    y.set_shape([])\n",
    "\n",
    "    return X, y"
   ]
  },
  {
   "cell_type": "code",
   "execution_count": 12,
   "metadata": {
    "id": "WWopRVATCw4B"
   },
   "outputs": [],
   "source": [
    "def load_subdir_data(dir_path, image_size, seed=None):\n",
    "\n",
    "    \"\"\"Helper to create a TF dataset from each image subdirectory\"\"\"\n",
    "    global count\n",
    "    count = 0\n",
    "    # Grab only the classes that (1) we want to keep and (2) exist in this directory\n",
    "    tile_dir = dir_path / Path('tiles')\n",
    "    label_dir = dir_path /Path('labels')\n",
    "\n",
    "    loc_list = []\n",
    "\n",
    "    for folder in os.listdir(tile_dir):\n",
    "        if os.path.isdir(os.path.join(tile_dir, folder)):\n",
    "            for file in os.listdir(os.path.join(tile_dir, folder)):\n",
    "                if file.endswith(\".png\"):\n",
    "                    count+=1\n",
    "                    loc_list.append((os.path.join(os.path.join(tile_dir, folder), file), folder))\n",
    "\n",
    "    return loc_list"
   ]
  },
  {
   "cell_type": "code",
   "execution_count": 48,
   "metadata": {
    "id": "XV0EAK8BCtuM"
   },
   "outputs": [],
   "source": [
    "# Loop over all subframes, loading each into a list\n",
    "tf_data_train, tf_data_test, tf_data_val = [], [], []\n",
    "tf_dataset_train, tf_dataset_test, tf_dataset_val = [], [], []\n",
    "\n",
    "# Update the batch and buffer size as per your model requirements\n",
    "buffer_size = 64\n",
    "batch_size = 32\n",
    "\n",
    "for subdir, split in zip(subdirs, subdir_splits):\n",
    "    full_path = data_head_dir / subdir\n",
    "    if split=='validate':\n",
    "        tf_data_val.extend(load_subdir_data(full_path, IMAGE_SIZE, SEED))\n",
    "    elif split=='train':\n",
    "        tf_data_train.extend(load_subdir_data(full_path, IMAGE_SIZE, SEED))\n",
    "    elif split=='test':\n",
    "        tf_data_test.extend(load_subdir_data(full_path, IMAGE_SIZE, SEED))\n",
    "\n",
    "random.shuffle(tf_data_train)\n",
    "img_list, label_list = zip(*tf_data_train)\n",
    "img_list_t = tf.convert_to_tensor(img_list)\n",
    "lb_list_t = tf.convert_to_tensor(label_list)\n",
    "\n",
    "tf_dataset_train = tf.data.Dataset.from_tensor_slices((img_list_t, lb_list_t))\n",
    "tf_dataset_train = tf_dataset_train.map(load_and_preprocess_augmentation, num_parallel_calls=tf.data.experimental.AUTOTUNE)\n",
    "tf_dataset_train = tf_dataset_train.shuffle(buffer_size=buffer_size).batch(batch_size)\n",
    "\n",
    "random.shuffle(tf_data_val)\n",
    "img_list, label_list = zip(*tf_data_val)\n",
    "img_list_t = tf.convert_to_tensor(img_list)\n",
    "lb_list_t = tf.convert_to_tensor(label_list)\n",
    "\n",
    "tf_dataset_val = tf.data.Dataset.from_tensor_slices((img_list_t, lb_list_t))\n",
    "tf_dataset_val = tf_dataset_val.map(load_and_preprocess, num_parallel_calls=tf.data.experimental.AUTOTUNE)\n",
    "tf_dataset_val = tf_dataset_val.shuffle(buffer_size=buffer_size).batch(batch_size)\n",
    "\n",
    "random.shuffle(tf_data_test)\n",
    "img_list, label_list = zip(*tf_data_test)\n",
    "img_list_t = tf.convert_to_tensor(img_list)\n",
    "lb_list_t = tf.convert_to_tensor(label_list)\n",
    "\n",
    "tf_dataset_test = tf.data.Dataset.from_tensor_slices((img_list_t, lb_list_t))\n",
    "tf_dataset_test = tf_dataset_test.map(load_and_preprocess, num_parallel_calls=tf.data.experimental.AUTOTUNE)\n",
    "tf_dataset_test = tf_dataset_test.shuffle(buffer_size=buffer_size).batch(batch_size)"
   ]
  },
  {
   "cell_type": "markdown",
   "metadata": {
    "id": "H96Rh7SEERWb"
   },
   "source": [
    "# **(c) Training CNN + MLP**"
   ]
  },
  {
   "cell_type": "markdown",
   "metadata": {
    "id": "dRvOel8abLpL"
   },
   "source": [
    "(i) **Augmentation** - has been included in the load_and_preprocess function in part (b)"
   ]
  },
  {
   "cell_type": "markdown",
   "metadata": {
    "id": "FPLCsRTNbc0n"
   },
   "source": [
    "(ii) **Training the model**"
   ]
  },
  {
   "cell_type": "code",
   "execution_count": 14,
   "metadata": {
    "id": "hqcCAZm1d6h3"
   },
   "outputs": [],
   "source": [
    "input_shape = (299, 299, 3)\n",
    "model = models.Sequential()\n",
    "model.add(layers.Conv2D(32, (3, 3), activation='relu', input_shape=input_shape))\n",
    "model.add(layers.BatchNormalization())\n",
    "model.add(layers.Dropout(0.3))\n",
    "model.add(layers.MaxPooling2D((2, 2)))\n",
    "model.add(layers.Conv2D(64, (3, 3), activation='relu'))\n",
    "model.add(layers.BatchNormalization())\n",
    "model.add(layers.Dropout(0.3))\n",
    "model.add(layers.MaxPooling2D((2, 2)))\n",
    "model.add(layers.Conv2D(128, (3, 3), activation='relu'))\n",
    "model.add(layers.BatchNormalization())\n",
    "model.add(layers.Dropout(0.3))\n",
    "model.add(layers.MaxPooling2D((2, 2)))\n",
    "model.add(layers.Flatten())\n",
    "model.add(layers.Dense(256, activation='relu',kernel_regularizer=l2(0.01)))\n",
    "model.add(layers.BatchNormalization())\n",
    "model.add(layers.Dropout(0.3))\n",
    "model.add(layers.Dense(2, activation='softmax'))  # Assuming binary classification\n"
   ]
  },
  {
   "cell_type": "code",
   "execution_count": 15,
   "metadata": {
    "colab": {
     "base_uri": "https://localhost:8080/"
    },
    "id": "fnBBEZUPd6lc",
    "outputId": "582bde5d-20da-4936-f966-f8e7748d7975"
   },
   "outputs": [
    {
     "name": "stdout",
     "output_type": "stream",
     "text": [
      "Model: \"sequential\"\n",
      "_________________________________________________________________\n",
      " Layer (type)                Output Shape              Param #   \n",
      "=================================================================\n",
      " conv2d (Conv2D)             (None, 297, 297, 32)      896       \n",
      "                                                                 \n",
      " batch_normalization (Batch  (None, 297, 297, 32)      128       \n",
      " Normalization)                                                  \n",
      "                                                                 \n",
      " dropout (Dropout)           (None, 297, 297, 32)      0         \n",
      "                                                                 \n",
      " max_pooling2d (MaxPooling2  (None, 148, 148, 32)      0         \n",
      " D)                                                              \n",
      "                                                                 \n",
      " conv2d_1 (Conv2D)           (None, 146, 146, 64)      18496     \n",
      "                                                                 \n",
      " batch_normalization_1 (Bat  (None, 146, 146, 64)      256       \n",
      " chNormalization)                                                \n",
      "                                                                 \n",
      " dropout_1 (Dropout)         (None, 146, 146, 64)      0         \n",
      "                                                                 \n",
      " max_pooling2d_1 (MaxPoolin  (None, 73, 73, 64)        0         \n",
      " g2D)                                                            \n",
      "                                                                 \n",
      " conv2d_2 (Conv2D)           (None, 71, 71, 128)       73856     \n",
      "                                                                 \n",
      " batch_normalization_2 (Bat  (None, 71, 71, 128)       512       \n",
      " chNormalization)                                                \n",
      "                                                                 \n",
      " dropout_2 (Dropout)         (None, 71, 71, 128)       0         \n",
      "                                                                 \n",
      " max_pooling2d_2 (MaxPoolin  (None, 35, 35, 128)       0         \n",
      " g2D)                                                            \n",
      "                                                                 \n",
      " flatten (Flatten)           (None, 156800)            0         \n",
      "                                                                 \n",
      " dense (Dense)               (None, 256)               40141056  \n",
      "                                                                 \n",
      " batch_normalization_3 (Bat  (None, 256)               1024      \n",
      " chNormalization)                                                \n",
      "                                                                 \n",
      " dropout_3 (Dropout)         (None, 256)               0         \n",
      "                                                                 \n",
      " dense_1 (Dense)             (None, 2)                 514       \n",
      "                                                                 \n",
      "=================================================================\n",
      "Total params: 40236738 (153.49 MB)\n",
      "Trainable params: 40235778 (153.49 MB)\n",
      "Non-trainable params: 960 (3.75 KB)\n",
      "_________________________________________________________________\n"
     ]
    }
   ],
   "source": [
    "model.summary()"
   ]
  },
  {
   "cell_type": "code",
   "execution_count": 16,
   "metadata": {
    "id": "O1ku0Oy4gJqL"
   },
   "outputs": [],
   "source": [
    "# Compile the model\n",
    "from keras.optimizers import Adam\n",
    "adam = Adam(learning_rate=0.0001)\n",
    "model.compile(optimizer= adam,loss='sparse_categorical_crossentropy',metrics=['accuracy'])"
   ]
  },
  {
   "cell_type": "code",
   "execution_count": 17,
   "metadata": {
    "id": "4yffNjLegPL3"
   },
   "outputs": [],
   "source": [
    "# Define early stopping\n",
    "es_cb = EarlyStopping(monitor='val_loss',patience=3,restore_best_weights=True,start_from_epoch = 20)"
   ]
  },
  {
   "cell_type": "code",
   "execution_count": 18,
   "metadata": {
    "colab": {
     "base_uri": "https://localhost:8080/"
    },
    "id": "nc95YDfRgPQ8",
    "outputId": "3c04970a-d818-4d15-dac9-c4ad3cacc2f8"
   },
   "outputs": [
    {
     "name": "stdout",
     "output_type": "stream",
     "text": [
      "Epoch 1/30\n",
      "928/928 [==============================] - 409s 426ms/step - loss: 2.2746 - accuracy: 0.6565 - val_loss: 1.1011 - val_accuracy: 0.8962\n",
      "Epoch 2/30\n",
      "928/928 [==============================] - 396s 426ms/step - loss: 0.9703 - accuracy: 0.7146 - val_loss: 2.6729 - val_accuracy: 0.3218\n",
      "Epoch 3/30\n",
      "928/928 [==============================] - 392s 422ms/step - loss: 0.8541 - accuracy: 0.7331 - val_loss: 3.1452 - val_accuracy: 0.4681\n",
      "Epoch 4/30\n",
      "928/928 [==============================] - 396s 426ms/step - loss: 0.8120 - accuracy: 0.7579 - val_loss: 2.4061 - val_accuracy: 0.3566\n",
      "Epoch 5/30\n",
      "928/928 [==============================] - 398s 428ms/step - loss: 0.7706 - accuracy: 0.7837 - val_loss: 0.9158 - val_accuracy: 0.7069\n",
      "Epoch 6/30\n",
      "928/928 [==============================] - 390s 420ms/step - loss: 0.7059 - accuracy: 0.8168 - val_loss: 0.7008 - val_accuracy: 0.7507\n",
      "Epoch 7/30\n",
      "928/928 [==============================] - 392s 421ms/step - loss: 0.7039 - accuracy: 0.8400 - val_loss: 0.8504 - val_accuracy: 0.7988\n",
      "Epoch 8/30\n",
      "928/928 [==============================] - 390s 419ms/step - loss: 0.7165 - accuracy: 0.8570 - val_loss: 0.4607 - val_accuracy: 0.9667\n",
      "Epoch 9/30\n",
      "928/928 [==============================] - 388s 417ms/step - loss: 0.6851 - accuracy: 0.8803 - val_loss: 0.7486 - val_accuracy: 0.8496\n",
      "Epoch 10/30\n",
      "928/928 [==============================] - 387s 416ms/step - loss: 0.6965 - accuracy: 0.8912 - val_loss: 0.7771 - val_accuracy: 0.9281\n",
      "Epoch 11/30\n",
      "928/928 [==============================] - 387s 417ms/step - loss: 0.6702 - accuracy: 0.8997 - val_loss: 1.6820 - val_accuracy: 0.6084\n",
      "Epoch 12/30\n",
      "928/928 [==============================] - 388s 418ms/step - loss: 0.6570 - accuracy: 0.9065 - val_loss: 0.5325 - val_accuracy: 0.9485\n",
      "Epoch 13/30\n",
      "928/928 [==============================] - 391s 421ms/step - loss: 0.5949 - accuracy: 0.9159 - val_loss: 0.9760 - val_accuracy: 0.7992\n",
      "Epoch 14/30\n",
      "928/928 [==============================] - 390s 420ms/step - loss: 0.5639 - accuracy: 0.9217 - val_loss: 0.7012 - val_accuracy: 0.8603\n",
      "Epoch 15/30\n",
      "928/928 [==============================] - 391s 420ms/step - loss: 0.5564 - accuracy: 0.9234 - val_loss: 0.8979 - val_accuracy: 0.8159\n",
      "Epoch 16/30\n",
      "928/928 [==============================] - 392s 421ms/step - loss: 0.5389 - accuracy: 0.9268 - val_loss: 0.5379 - val_accuracy: 0.9152\n",
      "Epoch 17/30\n",
      "928/928 [==============================] - 391s 420ms/step - loss: 0.5319 - accuracy: 0.9294 - val_loss: 0.7256 - val_accuracy: 0.8504\n",
      "Epoch 18/30\n",
      "928/928 [==============================] - 389s 419ms/step - loss: 0.5193 - accuracy: 0.9307 - val_loss: 1.1407 - val_accuracy: 0.7547\n",
      "Epoch 19/30\n",
      "928/928 [==============================] - 391s 421ms/step - loss: 0.5111 - accuracy: 0.9326 - val_loss: 1.0144 - val_accuracy: 0.8027\n",
      "Epoch 20/30\n",
      "928/928 [==============================] - 388s 418ms/step - loss: 0.4955 - accuracy: 0.9343 - val_loss: 0.4540 - val_accuracy: 0.9449\n",
      "Epoch 21/30\n",
      "928/928 [==============================] - 388s 418ms/step - loss: 0.4609 - accuracy: 0.9379 - val_loss: 0.6104 - val_accuracy: 0.8711\n",
      "Epoch 22/30\n",
      "928/928 [==============================] - 386s 415ms/step - loss: 0.4568 - accuracy: 0.9404 - val_loss: 0.5425 - val_accuracy: 0.9141\n",
      "Epoch 23/30\n",
      "928/928 [==============================] - 389s 419ms/step - loss: 0.4584 - accuracy: 0.9401 - val_loss: 0.6317 - val_accuracy: 0.8713\n",
      "Epoch 24/30\n",
      "928/928 [==============================] - 386s 415ms/step - loss: 0.4496 - accuracy: 0.9422 - val_loss: 0.6429 - val_accuracy: 0.8700\n",
      "Epoch 25/30\n",
      "928/928 [==============================] - 388s 417ms/step - loss: 0.4446 - accuracy: 0.9408 - val_loss: 0.4610 - val_accuracy: 0.9390\n",
      "Epoch 26/30\n",
      "928/928 [==============================] - 390s 419ms/step - loss: 0.4325 - accuracy: 0.9451 - val_loss: 0.4479 - val_accuracy: 0.9428\n",
      "Epoch 27/30\n",
      "928/928 [==============================] - 388s 417ms/step - loss: 0.4309 - accuracy: 0.9468 - val_loss: 0.6107 - val_accuracy: 0.8682\n",
      "Epoch 28/30\n",
      "928/928 [==============================] - 390s 420ms/step - loss: 0.4155 - accuracy: 0.9456 - val_loss: 0.5445 - val_accuracy: 0.9064\n",
      "Epoch 29/30\n",
      "928/928 [==============================] - 394s 424ms/step - loss: 0.4050 - accuracy: 0.9483 - val_loss: 1.2263 - val_accuracy: 0.6476\n"
     ]
    }
   ],
   "source": [
    "num_epochs = 30\n",
    "\n",
    "history = model.fit(tf_dataset_train,epochs=num_epochs,validation_data=tf_dataset_val, callbacks=[es_cb])"
   ]
  },
  {
   "cell_type": "code",
   "execution_count": 19,
   "metadata": {
    "colab": {
     "base_uri": "https://localhost:8080/",
     "height": 472
    },
    "id": "7JjMjWCGZVjq",
    "outputId": "cafb38f9-1355-4010-9f7f-b5faa57ccc1f"
   },
   "outputs": [
    {
     "data": {
      "image/png": "[encoded data removed]",
      "text/plain": [
       "<Figure size 640x480 with 1 Axes>"
      ]
     },
     "metadata": {},
     "output_type": "display_data"
    }
   ],
   "source": [
    "plt.plot(history.history['loss'], label='Training Loss')\n",
    "plt.plot(history.history['val_loss'], label='Validation Loss')\n",
    "plt.title('CNN + MLP: Loss vs Epochs')\n",
    "plt.xlabel('Epochs')\n",
    "plt.ylabel('Loss')\n",
    "plt.legend()\n",
    "plt.show()"
   ]
  },
  {
   "cell_type": "markdown",
   "metadata": {
    "id": "XRdHBemlbyXb"
   },
   "source": [
    "(iii) **Evaluation**"
   ]
  },
  {
   "cell_type": "code",
   "execution_count": 20,
   "metadata": {
    "colab": {
     "base_uri": "https://localhost:8080/"
    },
    "id": "YVBM3fWqC_jf",
    "outputId": "629001a6-b741-452d-9cf4-128f884ce583"
   },
   "outputs": [
    {
     "name": "stdout",
     "output_type": "stream",
     "text": [
      "Classification Report\n",
      "              precision    recall  f1-score   support\n",
      "\n",
      "       frost       0.77      0.94      0.84      4418\n",
      "  background       0.96      0.85      0.90      8405\n",
      "\n",
      "    accuracy                           0.88     12823\n",
      "   macro avg       0.86      0.89      0.87     12823\n",
      "weighted avg       0.89      0.88      0.88     12823\n",
      "\n"
     ]
    }
   ],
   "source": [
    "all_true_labels = []\n",
    "all_predicted_labels = []\n",
    "\n",
    "for batch1 in tf_dataset_test:\n",
    "    images, labels = batch1\n",
    "    predicted_probs = model.predict(images,verbose = 0)\n",
    "    predicted_labels = np.argmax(predicted_probs, axis=1)\n",
    "    labels = labels.numpy()\n",
    "    all_true_labels.extend(labels)\n",
    "    all_predicted_labels.extend(predicted_labels)\n",
    "\n",
    "print(\"Classification Report\")\n",
    "\n",
    "print(classification_report(all_true_labels, all_predicted_labels,target_names= ['frost', 'background']))\n"
   ]
  },
  {
   "cell_type": "code",
   "execution_count": 21,
   "metadata": {
    "colab": {
     "base_uri": "https://localhost:8080/"
    },
    "id": "o6MsHMxdQWzt",
    "outputId": "2ab3f635-a6e4-46f0-8b04-c21990b9770f"
   },
   "outputs": [
    {
     "name": "stdout",
     "output_type": "stream",
     "text": [
      "Overall Precision: 0.9617\n",
      "Overall Recall: 0.8504\n",
      "Overall F1-Score: 0.9026\n"
     ]
    }
   ],
   "source": [
    "precision = precision_score(all_true_labels, all_predicted_labels, average='binary')\n",
    "recall = recall_score(all_true_labels, all_predicted_labels, average='binary')\n",
    "f1 = f1_score(all_true_labels, all_predicted_labels, average='binary')\n",
    "\n",
    "print(f'Overall Precision: {precision:.4f}')\n",
    "print(f'Overall Recall: {recall:.4f}')\n",
    "print(f'Overall F1-Score: {f1:.4f}')"
   ]
  },
  {
   "cell_type": "code",
   "execution_count": 22,
   "metadata": {
    "colab": {
     "base_uri": "https://localhost:8080/"
    },
    "id": "J8hpO22kapXB",
    "outputId": "541ae853-7caf-42c2-8329-4114bd1486d6"
   },
   "outputs": [
    {
     "name": "stdout",
     "output_type": "stream",
     "text": [
      "401/401 [==============================] - 42s 105ms/step - loss: 0.7336 - accuracy: 0.8797\n",
      "\n",
      "Accuracy score of the model: 87.97%\n"
     ]
    }
   ],
   "source": [
    "scores = model.evaluate(tf_dataset_test)\n",
    "\n",
    "# Print the accuracy score\n",
    "print('\\nAccuracy score of the model: {0:.2f}%'.format(scores[1] * 100))"
   ]
  },
  {
   "cell_type": "markdown",
   "metadata": {
    "id": "_Z8DlIKAEFf4"
   },
   "source": [
    "# **(d) Transfer Learning**"
   ]
  },
  {
   "cell_type": "code",
   "execution_count": 23,
   "metadata": {
    "id": "qKu4CytTHbdL"
   },
   "outputs": [],
   "source": [
    "def build_transfer_model(base_model):\n",
    "    model = models.Sequential()\n",
    "    model.add(base_model)\n",
    "    model.add(layers.GlobalAveragePooling2D())\n",
    "    model.add(layers.Dense(256, activation='relu'))\n",
    "    model.add(layers.BatchNormalization())\n",
    "    model.add(layers.Dropout(0.3))\n",
    "    model.add(layers.Dense(2, activation='softmax'))\n",
    "\n",
    "    return model\n"
   ]
  },
  {
   "cell_type": "code",
   "execution_count": 35,
   "metadata": {
    "id": "lXht5N_QHdn6"
   },
   "outputs": [],
   "source": [
    "def train_transfer_model(model, train_data, val_data, epochs=30):\n",
    "    early_stopping = EarlyStopping(monitor='val_loss', patience=3, restore_best_weights=True,start_from_epoch = 20)\n",
    "\n",
    "    adam = Adam(learning_rate=0.0001)\n",
    "\n",
    "    model.compile(optimizer=adam, loss='sparse_categorical_crossentropy', metrics=['accuracy'])\n",
    "\n",
    "    history = model.fit(train_data, epochs=epochs,validation_data=val_data, callbacks=[early_stopping])\n",
    "\n",
    "    return history"
   ]
  },
  {
   "cell_type": "code",
   "execution_count": 25,
   "metadata": {
    "id": "N0ySXkNGHf45"
   },
   "outputs": [],
   "source": [
    "def evaluate_model(model, test_data):\n",
    "    predicted_labels = []\n",
    "    true_labels = []\n",
    "\n",
    "    for batch in test_data:\n",
    "        images, labels = batch\n",
    "        predictions = model.predict(images,verbose = 0)\n",
    "        predicted_labels.extend(tf.argmax(predictions, axis=1).numpy())\n",
    "        true_labels.extend(labels.numpy())\n",
    "\n",
    "    scores = model.evaluate(tf_dataset_test)\n",
    "\n",
    "    print(\"Classification Report:\")\n",
    "\n",
    "    print(classification_report(true_labels, predicted_labels,target_names= ['frost', 'background']))\n",
    "\n",
    "    print('\\nAccuracy score of the model: {0:.2f}%'.format(scores[1] * 100))"
   ]
  },
  {
   "cell_type": "code",
   "execution_count": 26,
   "metadata": {
    "id": "Xz8RbjpSQyzP"
   },
   "outputs": [],
   "source": [
    "def overallevaluate(model, test_data):\n",
    "    predicted_labels = []\n",
    "    true_labels = []\n",
    "\n",
    "    for batch in test_data:\n",
    "        images, labels = batch\n",
    "        predictions = model.predict(images,verbose = 0)\n",
    "        predicted_labels.extend(tf.argmax(predictions, axis=1).numpy())\n",
    "        true_labels.extend(labels.numpy())\n",
    "\n",
    "    precision = precision_score(true_labels, predicted_labels, average='binary')\n",
    "    recall = recall_score(true_labels, predicted_labels, average='binary')\n",
    "    f1 = f1_score(true_labels, predicted_labels, average='binary')\n",
    "\n",
    "    print(f'Overall Precision: {precision:.4f}')\n",
    "    print(f'Overall Recall: {recall:.4f}')\n",
    "    print(f'Overall F1-Score: {f1:.4f}')\n",
    "\n",
    "    return precision,recall,f1"
   ]
  },
  {
   "cell_type": "markdown",
   "metadata": {
    "id": "pjhKx4O6HWn-"
   },
   "source": [
    "# **EfficientNetB0**"
   ]
  },
  {
   "cell_type": "code",
   "execution_count": 27,
   "metadata": {
    "colab": {
     "base_uri": "https://localhost:8080/"
    },
    "id": "zDOpZN3CDWf3",
    "outputId": "9e18a4e8-24f0-453b-ab43-93a9b98ae70d"
   },
   "outputs": [
    {
     "name": "stdout",
     "output_type": "stream",
     "text": [
      "Downloading data from https://storage.googleapis.com/keras-applications/efficientnetb0_notop.h5\n",
      "16705208/16705208 [==============================] - 1s 0us/step\n"
     ]
    }
   ],
   "source": [
    "base_model_efficientnet = EfficientNetB0(weights='imagenet', include_top=False, input_shape=(299, 299, 3))\n",
    "\n",
    "base_model_efficientnet.trainable = False\n",
    "transfer_model_efficientnet = build_transfer_model(base_model_efficientnet)"
   ]
  },
  {
   "cell_type": "code",
   "execution_count": 28,
   "metadata": {
    "colab": {
     "base_uri": "https://localhost:8080/"
    },
    "id": "_tPtcyMeW4wG",
    "outputId": "7f955352-2ce5-4a13-c27c-edf3015e6de5"
   },
   "outputs": [
    {
     "name": "stdout",
     "output_type": "stream",
     "text": [
      "Model: \"sequential_1\"\n",
      "_________________________________________________________________\n",
      " Layer (type)                Output Shape              Param #   \n",
      "=================================================================\n",
      " efficientnetb0 (Functional  (None, 10, 10, 1280)      4049571   \n",
      " )                                                               \n",
      "                                                                 \n",
      " global_average_pooling2d (  (None, 1280)              0         \n",
      " GlobalAveragePooling2D)                                         \n",
      "                                                                 \n",
      " dense_2 (Dense)             (None, 256)               327936    \n",
      "                                                                 \n",
      " batch_normalization_4 (Bat  (None, 256)               1024      \n",
      " chNormalization)                                                \n",
      "                                                                 \n",
      " dropout_4 (Dropout)         (None, 256)               0         \n",
      "                                                                 \n",
      " dense_3 (Dense)             (None, 2)                 514       \n",
      "                                                                 \n",
      "=================================================================\n",
      "Total params: 4379045 (16.70 MB)\n",
      "Trainable params: 328962 (1.25 MB)\n",
      "Non-trainable params: 4050083 (15.45 MB)\n",
      "_________________________________________________________________\n"
     ]
    }
   ],
   "source": [
    "transfer_model_efficientnet.summary()"
   ]
  },
  {
   "cell_type": "code",
   "execution_count": 54,
   "metadata": {
    "colab": {
     "base_uri": "https://localhost:8080/"
    },
    "id": "KmDiju3ZV3eU",
    "outputId": "c411e6ac-0938-4d26-f24f-72941d3ab0e8"
   },
   "outputs": [
    {
     "name": "stdout",
     "output_type": "stream",
     "text": [
      "Epoch 1/30\n",
      "928/928 [==============================] - 353s 372ms/step - loss: 0.3623 - accuracy: 0.8354 - val_loss: 0.5957 - val_accuracy: 0.7880\n",
      "Epoch 2/30\n",
      "928/928 [==============================] - 343s 369ms/step - loss: 0.2380 - accuracy: 0.9006 - val_loss: 0.9630 - val_accuracy: 0.7562\n",
      "Epoch 3/30\n",
      "928/928 [==============================] - 345s 371ms/step - loss: 0.2077 - accuracy: 0.9162 - val_loss: 0.8439 - val_accuracy: 0.7758\n",
      "Epoch 4/30\n",
      "928/928 [==============================] - 346s 373ms/step - loss: 0.1902 - accuracy: 0.9233 - val_loss: 0.7964 - val_accuracy: 0.7863\n",
      "Epoch 5/30\n",
      "928/928 [==============================] - 348s 375ms/step - loss: 0.1725 - accuracy: 0.9299 - val_loss: 0.8582 - val_accuracy: 0.7865\n",
      "Epoch 6/30\n",
      "928/928 [==============================] - 348s 375ms/step - loss: 0.1674 - accuracy: 0.9314 - val_loss: 0.9182 - val_accuracy: 0.7938\n",
      "Epoch 7/30\n",
      "928/928 [==============================] - 346s 373ms/step - loss: 0.1584 - accuracy: 0.9369 - val_loss: 1.0166 - val_accuracy: 0.7913\n",
      "Epoch 8/30\n",
      "928/928 [==============================] - 342s 368ms/step - loss: 0.1563 - accuracy: 0.9381 - val_loss: 0.9025 - val_accuracy: 0.7928\n",
      "Epoch 9/30\n",
      "928/928 [==============================] - 344s 370ms/step - loss: 0.1485 - accuracy: 0.9399 - val_loss: 0.8352 - val_accuracy: 0.8113\n",
      "Epoch 10/30\n",
      "928/928 [==============================] - 342s 368ms/step - loss: 0.1457 - accuracy: 0.9427 - val_loss: 0.9420 - val_accuracy: 0.8019\n",
      "Epoch 11/30\n",
      "928/928 [==============================] - 346s 372ms/step - loss: 0.1428 - accuracy: 0.9424 - val_loss: 1.0649 - val_accuracy: 0.7719\n",
      "Epoch 12/30\n",
      "928/928 [==============================] - 343s 369ms/step - loss: 0.1392 - accuracy: 0.9450 - val_loss: 0.8764 - val_accuracy: 0.7907\n",
      "Epoch 13/30\n",
      "928/928 [==============================] - 349s 375ms/step - loss: 0.1364 - accuracy: 0.9453 - val_loss: 1.0525 - val_accuracy: 0.7759\n",
      "Epoch 14/30\n",
      "928/928 [==============================] - 360s 388ms/step - loss: 0.1368 - accuracy: 0.9449 - val_loss: 1.0118 - val_accuracy: 0.7983\n",
      "Epoch 15/30\n",
      "928/928 [==============================] - 359s 386ms/step - loss: 0.1368 - accuracy: 0.9453 - val_loss: 0.9426 - val_accuracy: 0.8075\n",
      "Epoch 16/30\n",
      "928/928 [==============================] - 359s 386ms/step - loss: 0.1273 - accuracy: 0.9492 - val_loss: 0.9180 - val_accuracy: 0.8122\n",
      "Epoch 17/30\n",
      "928/928 [==============================] - 359s 387ms/step - loss: 0.1315 - accuracy: 0.9481 - val_loss: 0.9258 - val_accuracy: 0.8100\n",
      "Epoch 18/30\n",
      "928/928 [==============================] - 358s 385ms/step - loss: 0.1273 - accuracy: 0.9485 - val_loss: 1.0524 - val_accuracy: 0.7882\n",
      "Epoch 19/30\n",
      "928/928 [==============================] - 359s 386ms/step - loss: 0.1269 - accuracy: 0.9502 - val_loss: 1.0843 - val_accuracy: 0.7842\n",
      "Epoch 20/30\n",
      "928/928 [==============================] - 356s 383ms/step - loss: 0.1238 - accuracy: 0.9515 - val_loss: 0.8960 - val_accuracy: 0.7990\n",
      "Epoch 21/30\n",
      "928/928 [==============================] - 357s 385ms/step - loss: 0.1213 - accuracy: 0.9520 - val_loss: 0.8611 - val_accuracy: 0.8181\n",
      "Epoch 22/30\n",
      "928/928 [==============================] - 362s 389ms/step - loss: 0.1202 - accuracy: 0.9511 - val_loss: 0.9200 - val_accuracy: 0.8057\n",
      "Epoch 23/30\n",
      "928/928 [==============================] - 362s 389ms/step - loss: 0.1189 - accuracy: 0.9521 - val_loss: 1.0794 - val_accuracy: 0.8049\n",
      "Epoch 24/30\n",
      "928/928 [==============================] - 361s 388ms/step - loss: 0.1189 - accuracy: 0.9525 - val_loss: 1.2474 - val_accuracy: 0.7822\n"
     ]
    }
   ],
   "source": [
    "history_efficientnet = train_transfer_model(transfer_model_efficientnet, tf_dataset_train, tf_dataset_val)"
   ]
  },
  {
   "cell_type": "code",
   "execution_count": 55,
   "metadata": {
    "colab": {
     "base_uri": "https://localhost:8080/"
    },
    "id": "e_Rqy5qYV6Fa",
    "outputId": "fd126422-4c3d-4a55-fbaa-a7906882a42e"
   },
   "outputs": [
    {
     "name": "stdout",
     "output_type": "stream",
     "text": [
      "401/401 [==============================] - 52s 129ms/step - loss: 0.2767 - accuracy: 0.9102\n",
      "Classification Report:\n",
      "              precision    recall  f1-score   support\n",
      "\n",
      "       frost       0.86      0.88      0.87      4418\n",
      "  background       0.94      0.93      0.93      8405\n",
      "\n",
      "    accuracy                           0.91     12823\n",
      "   macro avg       0.90      0.90      0.90     12823\n",
      "weighted avg       0.91      0.91      0.91     12823\n",
      "\n",
      "\n",
      "Accuracy score of the model: 91.02%\n"
     ]
    }
   ],
   "source": [
    "scores_eff = transfer_model_efficientnet.evaluate(tf_dataset_test,verbose = 0)\n",
    "evaluate_model(transfer_model_efficientnet, tf_dataset_test)"
   ]
  },
  {
   "cell_type": "code",
   "execution_count": 56,
   "metadata": {
    "colab": {
     "base_uri": "https://localhost:8080/"
    },
    "id": "GsLSY5OlRU6Y",
    "outputId": "460e11ad-e65c-4eaa-bf94-791e8f0e247f"
   },
   "outputs": [
    {
     "name": "stdout",
     "output_type": "stream",
     "text": [
      "Overall Precision: 0.9357\n",
      "Overall Recall: 0.9266\n",
      "Overall F1-Score: 0.9311\n"
     ]
    }
   ],
   "source": [
    "precision_eff,recall_eff,f1_eff = overallevaluate(transfer_model_efficientnet, tf_dataset_test)"
   ]
  },
  {
   "cell_type": "code",
   "execution_count": 57,
   "metadata": {
    "colab": {
     "base_uri": "https://localhost:8080/",
     "height": 472
    },
    "id": "BMv7EYW7r_D8",
    "outputId": "521e238f-b958-4d80-c2f1-ce6f89a9ca3d"
   },
   "outputs": [
    {
     "data": {
      "image/png": "[encoded data removed]",
      "text/plain": [
       "<Figure size 640x480 with 1 Axes>"
      ]
     },
     "metadata": {},
     "output_type": "display_data"
    }
   ],
   "source": [
    "plt.plot(history_efficientnet.history['loss'], label='Training Loss')\n",
    "plt.plot(history_efficientnet.history['val_loss'], label='Validation Loss')\n",
    "plt.title('EfficientNetB0: Loss vs Epochs')\n",
    "plt.xlabel('Epochs')\n",
    "plt.ylabel('Loss')\n",
    "plt.legend()\n",
    "plt.show()"
   ]
  },
  {
   "cell_type": "markdown",
   "metadata": {
    "id": "BYNJs72UH6Td"
   },
   "source": [
    "# **ResNet50**"
   ]
  },
  {
   "cell_type": "code",
   "execution_count": 38,
   "metadata": {
    "colab": {
     "base_uri": "https://localhost:8080/"
    },
    "id": "wRqgzWv7DWpa",
    "outputId": "680175b8-251f-4672-fd2a-0459767ae267"
   },
   "outputs": [
    {
     "name": "stdout",
     "output_type": "stream",
     "text": [
      "Downloading data from https://storage.googleapis.com/tensorflow/keras-applications/resnet/resnet50_weights_tf_dim_ordering_tf_kernels_notop.h5\n",
      "94765736/94765736 [==============================] - 3s 0us/step\n"
     ]
    }
   ],
   "source": [
    "base_model_resnet50 = ResNet50(weights='imagenet', include_top=False, input_shape=(299, 299, 3))\n",
    "\n",
    "base_model_resnet50.trainable = False\n",
    "transfer_model_resnet50 = build_transfer_model(base_model_resnet50)"
   ]
  },
  {
   "cell_type": "code",
   "execution_count": 39,
   "metadata": {
    "colab": {
     "base_uri": "https://localhost:8080/"
    },
    "id": "RWatVXOxW761",
    "outputId": "470e244b-5198-4443-900b-d6328d69249e"
   },
   "outputs": [
    {
     "name": "stdout",
     "output_type": "stream",
     "text": [
      "Model: \"sequential_2\"\n",
      "_________________________________________________________________\n",
      " Layer (type)                Output Shape              Param #   \n",
      "=================================================================\n",
      " resnet50 (Functional)       (None, 10, 10, 2048)      23587712  \n",
      "                                                                 \n",
      " global_average_pooling2d_1  (None, 2048)              0         \n",
      "  (GlobalAveragePooling2D)                                       \n",
      "                                                                 \n",
      " dense_4 (Dense)             (None, 256)               524544    \n",
      "                                                                 \n",
      " batch_normalization_5 (Bat  (None, 256)               1024      \n",
      " chNormalization)                                                \n",
      "                                                                 \n",
      " dropout_5 (Dropout)         (None, 256)               0         \n",
      "                                                                 \n",
      " dense_5 (Dense)             (None, 2)                 514       \n",
      "                                                                 \n",
      "=================================================================\n",
      "Total params: 24113794 (91.99 MB)\n",
      "Trainable params: 525570 (2.00 MB)\n",
      "Non-trainable params: 23588224 (89.98 MB)\n",
      "_________________________________________________________________\n"
     ]
    }
   ],
   "source": [
    "transfer_model_resnet50.summary()"
   ]
  },
  {
   "cell_type": "code",
   "execution_count": 40,
   "metadata": {
    "colab": {
     "base_uri": "https://localhost:8080/"
    },
    "id": "LrmwvVE3WYz5",
    "outputId": "a2a53aae-4f9a-416c-a29e-e0575e420294"
   },
   "outputs": [
    {
     "name": "stdout",
     "output_type": "stream",
     "text": [
      "Epoch 1/30\n",
      "928/928 [==============================] - 403s 428ms/step - loss: 0.3196 - accuracy: 0.8655 - val_loss: 0.6704 - val_accuracy: 0.7769\n",
      "Epoch 2/30\n",
      "928/928 [==============================] - 394s 423ms/step - loss: 0.2090 - accuracy: 0.9157 - val_loss: 0.7358 - val_accuracy: 0.7694\n",
      "Epoch 3/30\n",
      "928/928 [==============================] - 393s 422ms/step - loss: 0.1755 - accuracy: 0.9292 - val_loss: 0.7913 - val_accuracy: 0.7422\n",
      "Epoch 4/30\n",
      "928/928 [==============================] - 384s 413ms/step - loss: 0.1687 - accuracy: 0.9324 - val_loss: 0.9146 - val_accuracy: 0.7306\n",
      "Epoch 5/30\n",
      "928/928 [==============================] - 388s 418ms/step - loss: 0.1477 - accuracy: 0.9404 - val_loss: 0.6969 - val_accuracy: 0.7718\n",
      "Epoch 6/30\n",
      "928/928 [==============================] - 388s 417ms/step - loss: 0.1425 - accuracy: 0.9434 - val_loss: 0.7232 - val_accuracy: 0.7779\n",
      "Epoch 7/30\n",
      "928/928 [==============================] - 385s 414ms/step - loss: 0.1344 - accuracy: 0.9470 - val_loss: 0.8683 - val_accuracy: 0.7586\n",
      "Epoch 8/30\n",
      "928/928 [==============================] - 386s 415ms/step - loss: 0.1285 - accuracy: 0.9502 - val_loss: 0.7044 - val_accuracy: 0.7755\n",
      "Epoch 9/30\n",
      "928/928 [==============================] - 387s 416ms/step - loss: 0.1215 - accuracy: 0.9521 - val_loss: 0.7381 - val_accuracy: 0.7472\n",
      "Epoch 10/30\n",
      "928/928 [==============================] - 387s 416ms/step - loss: 0.1221 - accuracy: 0.9521 - val_loss: 0.6163 - val_accuracy: 0.7872\n",
      "Epoch 11/30\n",
      "928/928 [==============================] - 386s 415ms/step - loss: 0.1156 - accuracy: 0.9553 - val_loss: 0.5742 - val_accuracy: 0.8121\n",
      "Epoch 12/30\n",
      "928/928 [==============================] - 386s 415ms/step - loss: 0.1155 - accuracy: 0.9551 - val_loss: 0.9991 - val_accuracy: 0.7295\n",
      "Epoch 13/30\n",
      "928/928 [==============================] - 386s 415ms/step - loss: 0.1119 - accuracy: 0.9567 - val_loss: 0.9574 - val_accuracy: 0.7308\n",
      "Epoch 14/30\n",
      "928/928 [==============================] - 386s 415ms/step - loss: 0.1134 - accuracy: 0.9564 - val_loss: 1.3844 - val_accuracy: 0.6617\n",
      "Epoch 15/30\n",
      "928/928 [==============================] - 386s 415ms/step - loss: 0.1150 - accuracy: 0.9550 - val_loss: 1.0139 - val_accuracy: 0.7412\n",
      "Epoch 16/30\n",
      "928/928 [==============================] - 384s 413ms/step - loss: 0.1073 - accuracy: 0.9600 - val_loss: 0.9456 - val_accuracy: 0.7648\n",
      "Epoch 17/30\n",
      "928/928 [==============================] - 390s 420ms/step - loss: 0.1044 - accuracy: 0.9615 - val_loss: 0.7518 - val_accuracy: 0.7893\n",
      "Epoch 18/30\n",
      "928/928 [==============================] - 389s 418ms/step - loss: 0.1035 - accuracy: 0.9596 - val_loss: 1.1838 - val_accuracy: 0.7195\n",
      "Epoch 19/30\n",
      "928/928 [==============================] - 390s 420ms/step - loss: 0.1065 - accuracy: 0.9588 - val_loss: 1.1001 - val_accuracy: 0.6880\n",
      "Epoch 20/30\n",
      "928/928 [==============================] - 392s 422ms/step - loss: 0.1004 - accuracy: 0.9621 - val_loss: 0.9017 - val_accuracy: 0.7469\n",
      "Epoch 21/30\n",
      "928/928 [==============================] - 390s 420ms/step - loss: 0.1002 - accuracy: 0.9622 - val_loss: 0.9761 - val_accuracy: 0.7237\n",
      "Epoch 22/30\n",
      "928/928 [==============================] - 390s 419ms/step - loss: 0.0982 - accuracy: 0.9617 - val_loss: 1.0195 - val_accuracy: 0.7294\n",
      "Epoch 23/30\n",
      "928/928 [==============================] - 392s 422ms/step - loss: 0.0962 - accuracy: 0.9645 - val_loss: 1.3854 - val_accuracy: 0.6688\n",
      "Epoch 24/30\n",
      "928/928 [==============================] - 392s 422ms/step - loss: 0.1006 - accuracy: 0.9613 - val_loss: 1.0765 - val_accuracy: 0.6868\n"
     ]
    }
   ],
   "source": [
    "history_resnet50 = train_transfer_model(transfer_model_resnet50, tf_dataset_train, tf_dataset_val)"
   ]
  },
  {
   "cell_type": "code",
   "execution_count": 41,
   "metadata": {
    "colab": {
     "base_uri": "https://localhost:8080/"
    },
    "id": "DiRM-rdZWZC5",
    "outputId": "b658b604-da1c-4520-dc7e-4bd77c7f4e13"
   },
   "outputs": [
    {
     "name": "stdout",
     "output_type": "stream",
     "text": [
      "401/401 [==============================] - 59s 147ms/step - loss: 0.4276 - accuracy: 0.8574\n",
      "Classification Report:\n",
      "              precision    recall  f1-score   support\n",
      "\n",
      "       frost       0.96      0.61      0.75      4418\n",
      "  background       0.83      0.99      0.90      8405\n",
      "\n",
      "    accuracy                           0.86     12823\n",
      "   macro avg       0.89      0.80      0.82     12823\n",
      "weighted avg       0.87      0.86      0.85     12823\n",
      "\n",
      "\n",
      "Accuracy score of the model: 85.74%\n"
     ]
    }
   ],
   "source": [
    "scores_res = transfer_model_resnet50.evaluate(tf_dataset_test,verbose = 0)\n",
    "evaluate_model(transfer_model_resnet50, tf_dataset_test)"
   ]
  },
  {
   "cell_type": "code",
   "execution_count": 42,
   "metadata": {
    "colab": {
     "base_uri": "https://localhost:8080/"
    },
    "id": "PbMhBuUqRpCS",
    "outputId": "50b22312-2740-4ed8-fe46-10c0401a9c66"
   },
   "outputs": [
    {
     "name": "stdout",
     "output_type": "stream",
     "text": [
      "Overall Precision: 0.8285\n",
      "Overall Recall: 0.9867\n",
      "Overall F1-Score: 0.9007\n"
     ]
    }
   ],
   "source": [
    "precision_res,recall_res,f1_res = overallevaluate(transfer_model_resnet50, tf_dataset_test)"
   ]
  },
  {
   "cell_type": "code",
   "execution_count": 44,
   "metadata": {
    "colab": {
     "base_uri": "https://localhost:8080/",
     "height": 472
    },
    "id": "4lEy_r-ksAjT",
    "outputId": "b67b5419-5c25-4607-815a-9ca06cf592c6"
   },
   "outputs": [
    {
     "data": {
      "image/png": "[encoded data removed]",
      "text/plain": [
       "<Figure size 640x480 with 1 Axes>"
      ]
     },
     "metadata": {},
     "output_type": "display_data"
    }
   ],
   "source": [
    "plt.plot(history_resnet50.history['loss'], label='Training Loss')\n",
    "plt.plot(history_resnet50.history['val_loss'], label='Validation Loss')\n",
    "plt.title('ResNet50: Loss vs Epochs')\n",
    "plt.xlabel('Epochs')\n",
    "plt.ylabel('Loss')\n",
    "plt.legend()\n",
    "plt.show()"
   ]
  },
  {
   "cell_type": "markdown",
   "metadata": {
    "id": "-zK0_uGOH9mD"
   },
   "source": [
    "# **VGG16**\n"
   ]
  },
  {
   "cell_type": "code",
   "execution_count": 45,
   "metadata": {
    "colab": {
     "base_uri": "https://localhost:8080/"
    },
    "id": "s74P1y9sDOtn",
    "outputId": "2ae9f095-a6da-4892-fab9-d3730aed51b7"
   },
   "outputs": [
    {
     "name": "stdout",
     "output_type": "stream",
     "text": [
      "Downloading data from https://storage.googleapis.com/tensorflow/keras-applications/vgg16/vgg16_weights_tf_dim_ordering_tf_kernels_notop.h5\n",
      "58889256/58889256 [==============================] - 2s 0us/step\n"
     ]
    }
   ],
   "source": [
    "base_model_vgg16 = VGG16(weights='imagenet', include_top=False, input_shape=(299, 299, 3))\n",
    "\n",
    "base_model_vgg16.trainable = False\n",
    "transfer_model_vgg16 = build_transfer_model(base_model_vgg16)"
   ]
  },
  {
   "cell_type": "code",
   "execution_count": 46,
   "metadata": {
    "colab": {
     "base_uri": "https://localhost:8080/"
    },
    "id": "9J7156NHW_r_",
    "outputId": "b6a0e932-a365-4105-b455-a03309876aed"
   },
   "outputs": [
    {
     "name": "stdout",
     "output_type": "stream",
     "text": [
      "Model: \"sequential_3\"\n",
      "_________________________________________________________________\n",
      " Layer (type)                Output Shape              Param #   \n",
      "=================================================================\n",
      " vgg16 (Functional)          (None, 9, 9, 512)         14714688  \n",
      "                                                                 \n",
      " global_average_pooling2d_2  (None, 512)               0         \n",
      "  (GlobalAveragePooling2D)                                       \n",
      "                                                                 \n",
      " dense_6 (Dense)             (None, 256)               131328    \n",
      "                                                                 \n",
      " batch_normalization_6 (Bat  (None, 256)               1024      \n",
      " chNormalization)                                                \n",
      "                                                                 \n",
      " dropout_6 (Dropout)         (None, 256)               0         \n",
      "                                                                 \n",
      " dense_7 (Dense)             (None, 2)                 514       \n",
      "                                                                 \n",
      "=================================================================\n",
      "Total params: 14847554 (56.64 MB)\n",
      "Trainable params: 132354 (517.01 KB)\n",
      "Non-trainable params: 14715200 (56.13 MB)\n",
      "_________________________________________________________________\n"
     ]
    }
   ],
   "source": [
    "transfer_model_vgg16.summary()"
   ]
  },
  {
   "cell_type": "code",
   "execution_count": 49,
   "metadata": {
    "colab": {
     "base_uri": "https://localhost:8080/"
    },
    "id": "ZrKeMbctWoGw",
    "outputId": "484295a6-b257-45f3-af3a-2ff90f5bd6ca"
   },
   "outputs": [
    {
     "name": "stdout",
     "output_type": "stream",
     "text": [
      "Epoch 1/30\n",
      "928/928 [==============================] - 398s 424ms/step - loss: 0.4602 - accuracy: 0.7925 - val_loss: 0.8065 - val_accuracy: 0.7190\n",
      "Epoch 2/30\n",
      "928/928 [==============================] - 392s 422ms/step - loss: 0.2938 - accuracy: 0.8773 - val_loss: 0.7478 - val_accuracy: 0.7240\n",
      "Epoch 3/30\n",
      "928/928 [==============================] - 393s 422ms/step - loss: 0.2559 - accuracy: 0.8961 - val_loss: 0.8424 - val_accuracy: 0.6919\n",
      "Epoch 4/30\n",
      "928/928 [==============================] - 392s 421ms/step - loss: 0.2262 - accuracy: 0.9067 - val_loss: 1.0351 - val_accuracy: 0.6580\n",
      "Epoch 5/30\n",
      "928/928 [==============================] - 392s 422ms/step - loss: 0.2053 - accuracy: 0.9168 - val_loss: 0.8176 - val_accuracy: 0.7074\n",
      "Epoch 6/30\n",
      "928/928 [==============================] - 391s 421ms/step - loss: 0.1946 - accuracy: 0.9233 - val_loss: 0.7709 - val_accuracy: 0.7200\n",
      "Epoch 7/30\n",
      "928/928 [==============================] - 391s 420ms/step - loss: 0.1859 - accuracy: 0.9257 - val_loss: 1.0524 - val_accuracy: 0.6516\n",
      "Epoch 8/30\n",
      "928/928 [==============================] - 392s 421ms/step - loss: 0.1792 - accuracy: 0.9293 - val_loss: 0.8607 - val_accuracy: 0.6988\n",
      "Epoch 9/30\n",
      "928/928 [==============================] - 393s 423ms/step - loss: 0.1693 - accuracy: 0.9345 - val_loss: 0.8543 - val_accuracy: 0.7002\n",
      "Epoch 10/30\n",
      "928/928 [==============================] - 392s 422ms/step - loss: 0.1629 - accuracy: 0.9352 - val_loss: 0.8401 - val_accuracy: 0.7166\n",
      "Epoch 11/30\n",
      "928/928 [==============================] - 391s 421ms/step - loss: 0.1586 - accuracy: 0.9378 - val_loss: 0.7794 - val_accuracy: 0.7447\n",
      "Epoch 12/30\n",
      "928/928 [==============================] - 389s 419ms/step - loss: 0.1533 - accuracy: 0.9406 - val_loss: 0.9480 - val_accuracy: 0.6960\n",
      "Epoch 13/30\n",
      "928/928 [==============================] - 389s 418ms/step - loss: 0.1502 - accuracy: 0.9408 - val_loss: 0.8174 - val_accuracy: 0.7273\n",
      "Epoch 14/30\n",
      "928/928 [==============================] - 390s 420ms/step - loss: 0.1464 - accuracy: 0.9423 - val_loss: 0.8302 - val_accuracy: 0.7135\n",
      "Epoch 15/30\n",
      "928/928 [==============================] - 392s 422ms/step - loss: 0.1411 - accuracy: 0.9464 - val_loss: 0.8365 - val_accuracy: 0.7157\n",
      "Epoch 16/30\n",
      "928/928 [==============================] - 390s 420ms/step - loss: 0.1403 - accuracy: 0.9451 - val_loss: 0.8562 - val_accuracy: 0.7175\n",
      "Epoch 17/30\n",
      "928/928 [==============================] - 396s 426ms/step - loss: 0.1437 - accuracy: 0.9439 - val_loss: 1.0014 - val_accuracy: 0.6840\n",
      "Epoch 18/30\n",
      "928/928 [==============================] - 394s 424ms/step - loss: 0.1379 - accuracy: 0.9475 - val_loss: 0.9497 - val_accuracy: 0.6897\n",
      "Epoch 19/30\n",
      "928/928 [==============================] - 393s 423ms/step - loss: 0.1322 - accuracy: 0.9491 - val_loss: 0.8126 - val_accuracy: 0.7244\n",
      "Epoch 20/30\n",
      "928/928 [==============================] - 392s 422ms/step - loss: 0.1317 - accuracy: 0.9494 - val_loss: 0.6678 - val_accuracy: 0.7627\n",
      "Epoch 21/30\n",
      "928/928 [==============================] - 394s 424ms/step - loss: 0.1276 - accuracy: 0.9510 - val_loss: 0.7275 - val_accuracy: 0.7460\n",
      "Epoch 22/30\n",
      "928/928 [==============================] - 395s 425ms/step - loss: 0.1203 - accuracy: 0.9533 - val_loss: 0.8035 - val_accuracy: 0.7269\n",
      "Epoch 23/30\n",
      "928/928 [==============================] - 398s 428ms/step - loss: 0.1197 - accuracy: 0.9550 - val_loss: 0.7618 - val_accuracy: 0.7368\n",
      "Epoch 24/30\n",
      "928/928 [==============================] - 395s 425ms/step - loss: 0.1229 - accuracy: 0.9529 - val_loss: 0.8907 - val_accuracy: 0.7155\n"
     ]
    }
   ],
   "source": [
    "history_vgg16 = train_transfer_model(transfer_model_vgg16, tf_dataset_train, tf_dataset_val)"
   ]
  },
  {
   "cell_type": "code",
   "execution_count": 50,
   "metadata": {
    "colab": {
     "base_uri": "https://localhost:8080/"
    },
    "id": "mKRziaQLWqXG",
    "outputId": "e6b2d6b0-70ca-4507-ae62-d93cdc32cc69"
   },
   "outputs": [
    {
     "name": "stdout",
     "output_type": "stream",
     "text": [
      "401/401 [==============================] - 64s 158ms/step - loss: 0.4344 - accuracy: 0.8758\n",
      "Classification Report:\n",
      "              precision    recall  f1-score   support\n",
      "\n",
      "       frost       0.82      0.82      0.82      4418\n",
      "  background       0.90      0.91      0.91      8405\n",
      "\n",
      "    accuracy                           0.88     12823\n",
      "   macro avg       0.86      0.86      0.86     12823\n",
      "weighted avg       0.88      0.88      0.88     12823\n",
      "\n",
      "\n",
      "Accuracy score of the model: 87.58%\n"
     ]
    }
   ],
   "source": [
    "scores_vgg = transfer_model_vgg16.evaluate(tf_dataset_test,verbose = 0)\n",
    "evaluate_model(transfer_model_vgg16, tf_dataset_test)"
   ]
  },
  {
   "cell_type": "code",
   "execution_count": 51,
   "metadata": {
    "colab": {
     "base_uri": "https://localhost:8080/"
    },
    "id": "G5y--84vRy2A",
    "outputId": "f0cf2094-d508-4021-e936-4bb05267eddc"
   },
   "outputs": [
    {
     "name": "stdout",
     "output_type": "stream",
     "text": [
      "Overall Precision: 0.9034\n",
      "Overall Recall: 0.9077\n",
      "Overall F1-Score: 0.9055\n"
     ]
    }
   ],
   "source": [
    "precision_vgg,recall_vgg,f1_vgg = overallevaluate(transfer_model_vgg16, tf_dataset_test)"
   ]
  },
  {
   "cell_type": "code",
   "execution_count": 52,
   "metadata": {
    "colab": {
     "base_uri": "https://localhost:8080/",
     "height": 472
    },
    "id": "TiFYO1qtsB9T",
    "outputId": "fc5e110c-8fcb-4398-efb7-e7bc4a855612"
   },
   "outputs": [
    {
     "data": {
      "image/png": "[encoded data removed]",
      "text/plain": [
       "<Figure size 640x480 with 1 Axes>"
      ]
     },
     "metadata": {},
     "output_type": "display_data"
    }
   ],
   "source": [
    "plt.plot(history_vgg16.history['loss'], label='Training Loss')\n",
    "plt.plot(history_vgg16.history['val_loss'], label='Validation Loss')\n",
    "plt.title('VGG16: Loss vs Epochs')\n",
    "plt.xlabel('Epochs')\n",
    "plt.ylabel('Loss')\n",
    "plt.legend()\n",
    "plt.show()"
   ]
  },
  {
   "cell_type": "markdown",
   "metadata": {
    "id": "qKj6iyroW352"
   },
   "source": [
    "# **Comparison between models**"
   ]
  },
  {
   "cell_type": "code",
   "execution_count": 58,
   "metadata": {
    "colab": {
     "base_uri": "https://localhost:8080/",
     "height": 175
    },
    "id": "MpwNDfG_OCqd",
    "outputId": "001896ae-6274-4eab-9973-ee4fa7125f47"
   },
   "outputs": [
    {
     "data": {
      "text/html": [
       "\n",
       "  <div id=\"df-e8a702b6-9ada-4291-b705-010866f9bf32\" class=\"colab-df-container\">\n",
       "    <div>\n",
       "<style scoped>\n",
       "    .dataframe tbody tr th:only-of-type {\n",
       "        vertical-align: middle;\n",
       "    }\n",
       "\n",
       "    .dataframe tbody tr th {\n",
       "        vertical-align: top;\n",
       "    }\n",
       "\n",
       "    .dataframe thead th {\n",
       "        text-align: right;\n",
       "    }\n",
       "</style>\n",
       "<table border=\"1\" class=\"dataframe\">\n",
       "  <thead>\n",
       "    <tr style=\"text-align: right;\">\n",
       "      <th></th>\n",
       "      <th>SNo.</th>\n",
       "      <th>Model</th>\n",
       "      <th>Precision</th>\n",
       "      <th>Recall</th>\n",
       "      <th>F1-Score</th>\n",
       "      <th>Testing Accuracy of model</th>\n",
       "    </tr>\n",
       "  </thead>\n",
       "  <tbody>\n",
       "    <tr>\n",
       "      <th>0</th>\n",
       "      <td>1</td>\n",
       "      <td>CNN + MLP</td>\n",
       "      <td>0.9617</td>\n",
       "      <td>0.8504</td>\n",
       "      <td>0.9026</td>\n",
       "      <td>0.8797</td>\n",
       "    </tr>\n",
       "    <tr>\n",
       "      <th>1</th>\n",
       "      <td>2</td>\n",
       "      <td>Transfer Learning using EfficientNetB0</td>\n",
       "      <td>0.9357</td>\n",
       "      <td>0.9266</td>\n",
       "      <td>0.9311</td>\n",
       "      <td>0.9102</td>\n",
       "    </tr>\n",
       "    <tr>\n",
       "      <th>2</th>\n",
       "      <td>3</td>\n",
       "      <td>Transfer Learning using ResNet50</td>\n",
       "      <td>0.8285</td>\n",
       "      <td>0.9867</td>\n",
       "      <td>0.9007</td>\n",
       "      <td>0.8574</td>\n",
       "    </tr>\n",
       "    <tr>\n",
       "      <th>3</th>\n",
       "      <td>4</td>\n",
       "      <td>Transfer Learning using VGG16</td>\n",
       "      <td>0.9034</td>\n",
       "      <td>0.9077</td>\n",
       "      <td>0.9055</td>\n",
       "      <td>0.8758</td>\n",
       "    </tr>\n",
       "  </tbody>\n",
       "</table>\n",
       "</div>\n",
       "    <div class=\"colab-df-buttons\">\n",
       "\n",
       "  <div class=\"colab-df-container\">\n",
       "    <button class=\"colab-df-convert\" onclick=\"convertToInteractive('df-e8a702b6-9ada-4291-b705-010866f9bf32')\"\n",
       "            title=\"Convert this dataframe to an interactive table.\"\n",
       "            style=\"display:none;\">\n",
       "\n",
       "  <svg xmlns=\"http://www.w3.org/2000/svg\" height=\"24px\" viewBox=\"0 -960 960 960\">\n",
       "    <path d=\"M120-120v-720h720v720H120Zm60-500h600v-160H180v160Zm220 220h160v-160H400v160Zm0 220h160v-160H400v160ZM180-400h160v-160H180v160Zm440 0h160v-160H620v160ZM180-180h160v-160H180v160Zm440 0h160v-160H620v160Z\"/>\n",
       "  </svg>\n",
       "    </button>\n",
       "\n",
       "  <style>\n",
       "    .colab-df-container {\n",
       "      display:flex;\n",
       "      gap: 12px;\n",
       "    }\n",
       "\n",
       "    .colab-df-convert {\n",
       "      background-color: #E8F0FE;\n",
       "      border: none;\n",
       "      border-radius: 50%;\n",
       "      cursor: pointer;\n",
       "      display: none;\n",
       "      fill: #1967D2;\n",
       "      height: 32px;\n",
       "      padding: 0 0 0 0;\n",
       "      width: 32px;\n",
       "    }\n",
       "\n",
       "    .colab-df-convert:hover {\n",
       "      background-color: #E2EBFA;\n",
       "      box-shadow: 0px 1px 2px rgba(60, 64, 67, 0.3), 0px 1px 3px 1px rgba(60, 64, 67, 0.15);\n",
       "      fill: #174EA6;\n",
       "    }\n",
       "\n",
       "    .colab-df-buttons div {\n",
       "      margin-bottom: 4px;\n",
       "    }\n",
       "\n",
       "    [theme=dark] .colab-df-convert {\n",
       "      background-color: #3B4455;\n",
       "      fill: #D2E3FC;\n",
       "    }\n",
       "\n",
       "    [theme=dark] .colab-df-convert:hover {\n",
       "      background-color: #434B5C;\n",
       "      box-shadow: 0px 1px 3px 1px rgba(0, 0, 0, 0.15);\n",
       "      filter: drop-shadow(0px 1px 2px rgba(0, 0, 0, 0.3));\n",
       "      fill: #FFFFFF;\n",
       "    }\n",
       "  </style>\n",
       "\n",
       "    <script>\n",
       "      const buttonEl =\n",
       "        document.querySelector('#df-e8a702b6-9ada-4291-b705-010866f9bf32 button.colab-df-convert');\n",
       "      buttonEl.style.display =\n",
       "        google.colab.kernel.accessAllowed ? 'block' : 'none';\n",
       "\n",
       "      async function convertToInteractive(key) {\n",
       "        const element = document.querySelector('#df-e8a702b6-9ada-4291-b705-010866f9bf32');\n",
       "        const dataTable =\n",
       "          await google.colab.kernel.invokeFunction('convertToInteractive',\n",
       "                                                    [key], {});\n",
       "        if (!dataTable) return;\n",
       "\n",
       "        const docLinkHtml = 'Like what you see? Visit the ' +\n",
       "          '<a target=\"_blank\" href=https://colab.research.google.com/notebooks/data_table.ipynb>data table notebook</a>'\n",
       "          + ' to learn more about interactive tables.';\n",
       "        element.innerHTML = '';\n",
       "        dataTable['output_type'] = 'display_data';\n",
       "        await google.colab.output.renderOutput(dataTable, element);\n",
       "        const docLink = document.createElement('div');\n",
       "        docLink.innerHTML = docLinkHtml;\n",
       "        element.appendChild(docLink);\n",
       "      }\n",
       "    </script>\n",
       "  </div>\n",
       "\n",
       "\n",
       "<div id=\"df-c715872a-1b56-47e2-a33b-ea7c21450c86\">\n",
       "  <button class=\"colab-df-quickchart\" onclick=\"quickchart('df-c715872a-1b56-47e2-a33b-ea7c21450c86')\"\n",
       "            title=\"Suggest charts\"\n",
       "            style=\"display:none;\">\n",
       "\n",
       "<svg xmlns=\"http://www.w3.org/2000/svg\" height=\"24px\"viewBox=\"0 0 24 24\"\n",
       "     width=\"24px\">\n",
       "    <g>\n",
       "        <path d=\"M19 3H5c-1.1 0-2 .9-2 2v14c0 1.1.9 2 2 2h14c1.1 0 2-.9 2-2V5c0-1.1-.9-2-2-2zM9 17H7v-7h2v7zm4 0h-2V7h2v10zm4 0h-2v-4h2v4z\"/>\n",
       "    </g>\n",
       "</svg>\n",
       "  </button>\n",
       "\n",
       "<style>\n",
       "  .colab-df-quickchart {\n",
       "      --bg-color: #E8F0FE;\n",
       "      --fill-color: #1967D2;\n",
       "      --hover-bg-color: #E2EBFA;\n",
       "      --hover-fill-color: #174EA6;\n",
       "      --disabled-fill-color: #AAA;\n",
       "      --disabled-bg-color: #DDD;\n",
       "  }\n",
       "\n",
       "  [theme=dark] .colab-df-quickchart {\n",
       "      --bg-color: #3B4455;\n",
       "      --fill-color: #D2E3FC;\n",
       "      --hover-bg-color: #434B5C;\n",
       "      --hover-fill-color: #FFFFFF;\n",
       "      --disabled-bg-color: #3B4455;\n",
       "      --disabled-fill-color: #666;\n",
       "  }\n",
       "\n",
       "  .colab-df-quickchart {\n",
       "    background-color: var(--bg-color);\n",
       "    border: none;\n",
       "    border-radius: 50%;\n",
       "    cursor: pointer;\n",
       "    display: none;\n",
       "    fill: var(--fill-color);\n",
       "    height: 32px;\n",
       "    padding: 0;\n",
       "    width: 32px;\n",
       "  }\n",
       "\n",
       "  .colab-df-quickchart:hover {\n",
       "    background-color: var(--hover-bg-color);\n",
       "    box-shadow: 0 1px 2px rgba(60, 64, 67, 0.3), 0 1px 3px 1px rgba(60, 64, 67, 0.15);\n",
       "    fill: var(--button-hover-fill-color);\n",
       "  }\n",
       "\n",
       "  .colab-df-quickchart-complete:disabled,\n",
       "  .colab-df-quickchart-complete:disabled:hover {\n",
       "    background-color: var(--disabled-bg-color);\n",
       "    fill: var(--disabled-fill-color);\n",
       "    box-shadow: none;\n",
       "  }\n",
       "\n",
       "  .colab-df-spinner {\n",
       "    border: 2px solid var(--fill-color);\n",
       "    border-color: transparent;\n",
       "    border-bottom-color: var(--fill-color);\n",
       "    animation:\n",
       "      spin 1s steps(1) infinite;\n",
       "  }\n",
       "\n",
       "  @keyframes spin {\n",
       "    0% {\n",
       "      border-color: transparent;\n",
       "      border-bottom-color: var(--fill-color);\n",
       "      border-left-color: var(--fill-color);\n",
       "    }\n",
       "    20% {\n",
       "      border-color: transparent;\n",
       "      border-left-color: var(--fill-color);\n",
       "      border-top-color: var(--fill-color);\n",
       "    }\n",
       "    30% {\n",
       "      border-color: transparent;\n",
       "      border-left-color: var(--fill-color);\n",
       "      border-top-color: var(--fill-color);\n",
       "      border-right-color: var(--fill-color);\n",
       "    }\n",
       "    40% {\n",
       "      border-color: transparent;\n",
       "      border-right-color: var(--fill-color);\n",
       "      border-top-color: var(--fill-color);\n",
       "    }\n",
       "    60% {\n",
       "      border-color: transparent;\n",
       "      border-right-color: var(--fill-color);\n",
       "    }\n",
       "    80% {\n",
       "      border-color: transparent;\n",
       "      border-right-color: var(--fill-color);\n",
       "      border-bottom-color: var(--fill-color);\n",
       "    }\n",
       "    90% {\n",
       "      border-color: transparent;\n",
       "      border-bottom-color: var(--fill-color);\n",
       "    }\n",
       "  }\n",
       "</style>\n",
       "\n",
       "  <script>\n",
       "    async function quickchart(key) {\n",
       "      const quickchartButtonEl =\n",
       "        document.querySelector('#' + key + ' button');\n",
       "      quickchartButtonEl.disabled = true;  // To prevent multiple clicks.\n",
       "      quickchartButtonEl.classList.add('colab-df-spinner');\n",
       "      try {\n",
       "        const charts = await google.colab.kernel.invokeFunction(\n",
       "            'suggestCharts', [key], {});\n",
       "      } catch (error) {\n",
       "        console.error('Error during call to suggestCharts:', error);\n",
       "      }\n",
       "      quickchartButtonEl.classList.remove('colab-df-spinner');\n",
       "      quickchartButtonEl.classList.add('colab-df-quickchart-complete');\n",
       "    }\n",
       "    (() => {\n",
       "      let quickchartButtonEl =\n",
       "        document.querySelector('#df-c715872a-1b56-47e2-a33b-ea7c21450c86 button');\n",
       "      quickchartButtonEl.style.display =\n",
       "        google.colab.kernel.accessAllowed ? 'block' : 'none';\n",
       "    })();\n",
       "  </script>\n",
       "</div>\n",
       "\n",
       "  <div id=\"id_2343614f-7d6f-468a-be47-623941f6bf15\">\n",
       "    <style>\n",
       "      .colab-df-generate {\n",
       "        background-color: #E8F0FE;\n",
       "        border: none;\n",
       "        border-radius: 50%;\n",
       "        cursor: pointer;\n",
       "        display: none;\n",
       "        fill: #1967D2;\n",
       "        height: 32px;\n",
       "        padding: 0 0 0 0;\n",
       "        width: 32px;\n",
       "      }\n",
       "\n",
       "      .colab-df-generate:hover {\n",
       "        background-color: #E2EBFA;\n",
       "        box-shadow: 0px 1px 2px rgba(60, 64, 67, 0.3), 0px 1px 3px 1px rgba(60, 64, 67, 0.15);\n",
       "        fill: #174EA6;\n",
       "      }\n",
       "\n",
       "      [theme=dark] .colab-df-generate {\n",
       "        background-color: #3B4455;\n",
       "        fill: #D2E3FC;\n",
       "      }\n",
       "\n",
       "      [theme=dark] .colab-df-generate:hover {\n",
       "        background-color: #434B5C;\n",
       "        box-shadow: 0px 1px 3px 1px rgba(0, 0, 0, 0.15);\n",
       "        filter: drop-shadow(0px 1px 2px rgba(0, 0, 0, 0.3));\n",
       "        fill: #FFFFFF;\n",
       "      }\n",
       "    </style>\n",
       "    <button class=\"colab-df-generate\" onclick=\"generateWithVariable('df5')\"\n",
       "            title=\"Generate code using this dataframe.\"\n",
       "            style=\"display:none;\">\n",
       "\n",
       "  <svg xmlns=\"http://www.w3.org/2000/svg\" height=\"24px\"viewBox=\"0 0 24 24\"\n",
       "       width=\"24px\">\n",
       "    <path d=\"M7,19H8.4L18.45,9,17,7.55,7,17.6ZM5,21V16.75L18.45,3.32a2,2,0,0,1,2.83,0l1.4,1.43a1.91,1.91,0,0,1,.58,1.4,1.91,1.91,0,0,1-.58,1.4L9.25,21ZM18.45,9,17,7.55Zm-12,3A5.31,5.31,0,0,0,4.9,8.1,5.31,5.31,0,0,0,1,6.5,5.31,5.31,0,0,0,4.9,4.9,5.31,5.31,0,0,0,6.5,1,5.31,5.31,0,0,0,8.1,4.9,5.31,5.31,0,0,0,12,6.5,5.46,5.46,0,0,0,6.5,12Z\"/>\n",
       "  </svg>\n",
       "    </button>\n",
       "    <script>\n",
       "      (() => {\n",
       "      const buttonEl =\n",
       "        document.querySelector('#id_2343614f-7d6f-468a-be47-623941f6bf15 button.colab-df-generate');\n",
       "      buttonEl.style.display =\n",
       "        google.colab.kernel.accessAllowed ? 'block' : 'none';\n",
       "\n",
       "      buttonEl.onclick = () => {\n",
       "        google.colab.notebook.generateWithVariable('df5');\n",
       "      }\n",
       "      })();\n",
       "    </script>\n",
       "  </div>\n",
       "\n",
       "    </div>\n",
       "  </div>\n"
      ],
      "text/plain": [
       "  SNo.                                   Model  Precision  Recall  F1-Score  \\\n",
       "0    1                               CNN + MLP     0.9617  0.8504    0.9026   \n",
       "1    2  Transfer Learning using EfficientNetB0     0.9357  0.9266    0.9311   \n",
       "2    3        Transfer Learning using ResNet50     0.8285  0.9867    0.9007   \n",
       "3    4           Transfer Learning using VGG16     0.9034  0.9077    0.9055   \n",
       "\n",
       "   Testing Accuracy of model  \n",
       "0                     0.8797  \n",
       "1                     0.9102  \n",
       "2                     0.8574  \n",
       "3                     0.8758  "
      ]
     },
     "execution_count": 58,
     "metadata": {},
     "output_type": "execute_result"
    }
   ],
   "source": [
    "data = [['1','CNN + MLP',round(precision,4),round(recall,4),round(f1,4),round(scores[1],4)],['2','Transfer Learning using EfficientNetB0',round(precision_eff,4),round(recall_eff,4),round(f1_eff,4),round(scores_eff[1],4)],['3','Transfer Learning using ResNet50',round(precision_res,4),round(recall_res,4),round(f1_res,4),round(scores_res[1],4)],['4','Transfer Learning using VGG16',round(precision_vgg,4),round(recall_vgg,4),round(f1_vgg,4),round(scores_vgg[1],4)]]\n",
    "df5 = pd.DataFrame(data, columns = ['SNo.', 'Model','Precision','Recall','F1-Score','Testing Accuracy of model'])\n",
    "df5"
   ]
  },
  {
   "cell_type": "markdown",
   "metadata": {
    "id": "v7Zz44HSYZe4"
   },
   "source": [
    "From the above comparisson table we observe the following:\n",
    "1. The EfficientNetB0 transfer learning model performs best amongst the rest of the models exhibiting a good test accuracy with high precision, recall, and F1-score. .\n",
    "\n",
    "2. The CNN+MLP model has a high precision score which shows that it mostly predicts the posititive class (frost) correctly, but  a lower recall score shows that it may missclassify some of the positive class instances. The F1-score is balanced for the model with a good testing accuracy.\n",
    "\n",
    "3. VGG16 transfer learning model exhibits a good test accuracy with steady precision, recall, and F1-score.\n",
    "\n",
    "4. ResNet50 transfer learning model also performs with a decent test accuracy but we observe a lower precision score whe compared to other models.\n",
    "\n",
    "\n",
    "\n",
    "\n"
   ]
  }
 ],
 "metadata": {
  "accelerator": "GPU",
  "colab": {
   "gpuType": "V100",
   "machine_shape": "hm",
   "provenance": []
  },
  "kernelspec": {
   "display_name": "Python 3 (ipykernel)",
   "language": "python",
   "name": "python3"
  },
  "language_info": {
   "codemirror_mode": {
    "name": "ipython",
    "version": 3
   },
   "file_extension": ".py",
   "mimetype": "text/x-python",
   "name": "python",
   "nbconvert_exporter": "python",
   "pygments_lexer": "ipython3",
   "version": "3.9.7"
  }
 },
 "nbformat": 4,
 "nbformat_minor": 1
}
